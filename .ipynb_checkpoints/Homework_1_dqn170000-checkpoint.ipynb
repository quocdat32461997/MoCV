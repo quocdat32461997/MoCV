{
 "cells": [
  {
   "cell_type": "markdown",
   "metadata": {},
   "source": [
    "# Homework 1\n",
    "### MoCV is a Python module that I, Dat Ngo, implemented Computer Vision algorithms from scrach"
   ]
  },
  {
   "cell_type": "code",
   "execution_count": null,
   "metadata": {},
   "outputs": [],
   "source": [
    "import MoCV, numpy as np\n",
    "import matplotlib.pyplot as plt"
   ]
  },
  {
   "cell_type": "markdown",
   "metadata": {},
   "source": [
    "# Question 1"
   ]
  },
  {
   "cell_type": "code",
   "execution_count": 56,
   "metadata": {},
   "outputs": [
    {
     "data": {
      "text/plain": [
       "array([[1, 2, 2, 3, 3],\n",
       "       [3, 4, 4, 4, 4],\n",
       "       [5, 5, 5, 5, 5]])"
      ]
     },
     "execution_count": 56,
     "metadata": {},
     "output_type": "execute_result"
    }
   ],
   "source": [
    "img = np.array([[1,2,2,3,3], [3,4,4,4,4],[5,5,5,5,5]])\n",
    "img"
   ]
  },
  {
   "cell_type": "markdown",
   "metadata": {},
   "source": [
    "## Image Histogram"
   ]
  },
  {
   "cell_type": "code",
   "execution_count": 29,
   "metadata": {},
   "outputs": [
    {
     "data": {
      "text/plain": [
       "array([0, 1, 2, 3, 4, 5, 0, 0, 0, 0, 0, 0, 0, 0, 0, 0, 0, 0, 0, 0, 0, 0,\n",
       "       0, 0, 0, 0, 0, 0, 0, 0, 0, 0, 0, 0, 0, 0, 0, 0, 0, 0, 0, 0, 0, 0,\n",
       "       0, 0, 0, 0, 0, 0, 0, 0, 0, 0, 0, 0, 0, 0, 0, 0, 0, 0, 0, 0, 0, 0,\n",
       "       0, 0, 0, 0, 0, 0, 0, 0, 0, 0, 0, 0, 0, 0, 0, 0, 0, 0, 0, 0, 0, 0,\n",
       "       0, 0, 0, 0, 0, 0, 0, 0, 0, 0, 0, 0, 0, 0, 0, 0, 0, 0, 0, 0, 0, 0,\n",
       "       0, 0, 0, 0, 0, 0, 0, 0, 0, 0, 0, 0, 0, 0, 0, 0, 0, 0, 0, 0, 0, 0,\n",
       "       0, 0, 0, 0, 0, 0, 0, 0, 0, 0, 0, 0, 0, 0, 0, 0, 0, 0, 0, 0, 0, 0,\n",
       "       0, 0, 0, 0, 0, 0, 0, 0, 0, 0, 0, 0, 0, 0, 0, 0, 0, 0, 0, 0, 0, 0,\n",
       "       0, 0, 0, 0, 0, 0, 0, 0, 0, 0, 0, 0, 0, 0, 0, 0, 0, 0, 0, 0, 0, 0,\n",
       "       0, 0, 0, 0, 0, 0, 0, 0, 0, 0, 0, 0, 0, 0, 0, 0, 0, 0, 0, 0, 0, 0,\n",
       "       0, 0, 0, 0, 0, 0, 0, 0, 0, 0, 0, 0, 0, 0, 0, 0, 0, 0, 0, 0, 0, 0,\n",
       "       0, 0, 0, 0, 0, 0, 0, 0, 0, 0, 0, 0, 0, 0])"
      ]
     },
     "execution_count": 29,
     "metadata": {},
     "output_type": "execute_result"
    }
   ],
   "source": [
    "hist = MoCV.histogram.histogram(img)\n",
    "hist"
   ]
  },
  {
   "cell_type": "code",
   "execution_count": 45,
   "metadata": {},
   "outputs": [
    {
     "data": {
      "image/png": "[encoded data removed]",
      "text/plain": [
       "<Figure size 432x288 with 1 Axes>"
      ]
     },
     "metadata": {
      "needs_background": "light"
     },
     "output_type": "display_data"
    }
   ],
   "source": [
    "plt.bar(np.arange(0, 256), height = hist)\n",
    "plt.xlim((0, 255))\n",
    "plt.title(\"Image Histogram\")\n",
    "plt.show()"
   ]
  },
  {
   "cell_type": "markdown",
   "metadata": {},
   "source": [
    "## Linearly Scaled Image Histogram"
   ]
  },
  {
   "cell_type": "code",
   "execution_count": 47,
   "metadata": {},
   "outputs": [
    {
     "data": {
      "text/plain": [
       "array([1, 0, 0, 0, 0, 0, 0, 0, 0, 0, 0, 0, 0, 0, 0, 0, 0, 0, 0, 0, 0, 0,\n",
       "       0, 0, 0, 0, 0, 0, 0, 0, 0, 0, 0, 0, 0, 0, 0, 0, 0, 0, 0, 0, 0, 0,\n",
       "       0, 0, 0, 0, 0, 0, 0, 0, 0, 0, 0, 0, 0, 0, 0, 0, 0, 0, 0, 2, 0, 0,\n",
       "       0, 0, 0, 0, 0, 0, 0, 0, 0, 0, 0, 0, 0, 0, 0, 0, 0, 0, 0, 0, 0, 0,\n",
       "       0, 0, 0, 0, 0, 0, 0, 0, 0, 0, 0, 0, 0, 0, 0, 0, 0, 0, 0, 0, 0, 0,\n",
       "       0, 0, 0, 0, 0, 0, 0, 0, 0, 0, 0, 0, 0, 0, 0, 0, 0, 3, 0, 0, 0, 0,\n",
       "       0, 0, 0, 0, 0, 0, 0, 0, 0, 0, 0, 0, 0, 0, 0, 0, 0, 0, 0, 0, 0, 0,\n",
       "       0, 0, 0, 0, 0, 0, 0, 0, 0, 0, 0, 0, 0, 0, 0, 0, 0, 0, 0, 0, 0, 0,\n",
       "       0, 0, 0, 0, 0, 0, 0, 0, 0, 0, 0, 0, 0, 0, 0, 4, 0, 0, 0, 0, 0, 0,\n",
       "       0, 0, 0, 0, 0, 0, 0, 0, 0, 0, 0, 0, 0, 0, 0, 0, 0, 0, 0, 0, 0, 0,\n",
       "       0, 0, 0, 0, 0, 0, 0, 0, 0, 0, 0, 0, 0, 0, 0, 0, 0, 0, 0, 0, 0, 0,\n",
       "       0, 0, 0, 0, 0, 0, 0, 0, 0, 0, 0, 0, 0, 5])"
      ]
     },
     "execution_count": 47,
     "metadata": {},
     "output_type": "execute_result"
    }
   ],
   "source": [
    "#Linear scaling to 0-255 range\n",
    "linear_scaled_hist = MoCV.histogram.linear_scale_hist(hist)\n",
    "linear_scaled_hist"
   ]
  },
  {
   "cell_type": "code",
   "execution_count": 48,
   "metadata": {},
   "outputs": [
    {
     "data": {
      "image/png": "[encoded data removed]",
      "text/plain": [
       "<Figure size 432x288 with 1 Axes>"
      ]
     },
     "metadata": {
      "needs_background": "light"
     },
     "output_type": "display_data"
    }
   ],
   "source": [
    "plt.bar(np.arange(0, 256), height = linear_scaled_hist)\n",
    "plt.title(\"Linear Scaled Image Histogram\")\n",
    "plt.show()"
   ]
  },
  {
   "cell_type": "markdown",
   "metadata": {},
   "source": [
    "## Equalized Image Histogram"
   ]
  },
  {
   "cell_type": "code",
   "execution_count": 53,
   "metadata": {},
   "outputs": [
    {
     "data": {
      "text/plain": [
       "array([  0.,   8.,  25.,  51.,  85., 128., 128., 128., 128., 128., 128.,\n",
       "       128., 128., 128., 128., 128., 128., 128., 128., 128., 128., 128.,\n",
       "       128., 128., 128., 128., 128., 128., 128., 128., 128., 128., 128.,\n",
       "       128., 128., 128., 128., 128., 128., 128., 128., 128., 128., 128.,\n",
       "       128., 128., 128., 128., 128., 128., 128., 128., 128., 128., 128.,\n",
       "       128., 128., 128., 128., 128., 128., 128., 128., 128., 128., 128.,\n",
       "       128., 128., 128., 128., 128., 128., 128., 128., 128., 128., 128.,\n",
       "       128., 128., 128., 128., 128., 128., 128., 128., 128., 128., 128.,\n",
       "       128., 128., 128., 128., 128., 128., 128., 128., 128., 128., 128.,\n",
       "       128., 128., 128., 128., 128., 128., 128., 128., 128., 128., 128.,\n",
       "       128., 128., 128., 128., 128., 128., 128., 128., 128., 128., 128.,\n",
       "       128., 128., 128., 128., 128., 128., 128., 128., 128., 128., 128.,\n",
       "       128., 128., 128., 128., 128., 128., 128., 128., 128., 128., 128.,\n",
       "       128., 128., 128., 128., 128., 128., 128., 128., 128., 128., 128.,\n",
       "       128., 128., 128., 128., 128., 128., 128., 128., 128., 128., 128.,\n",
       "       128., 128., 128., 128., 128., 128., 128., 128., 128., 128., 128.,\n",
       "       128., 128., 128., 128., 128., 128., 128., 128., 128., 128., 128.,\n",
       "       128., 128., 128., 128., 128., 128., 128., 128., 128., 128., 128.,\n",
       "       128., 128., 128., 128., 128., 128., 128., 128., 128., 128., 128.,\n",
       "       128., 128., 128., 128., 128., 128., 128., 128., 128., 128., 128.,\n",
       "       128., 128., 128., 128., 128., 128., 128., 128., 128., 128., 128.,\n",
       "       128., 128., 128., 128., 128., 128., 128., 128., 128., 128., 128.,\n",
       "       128., 128., 128., 128., 128., 128., 128., 128., 128., 128., 128.,\n",
       "       128., 128., 128.])"
      ]
     },
     "execution_count": 53,
     "metadata": {},
     "output_type": "execute_result"
    }
   ],
   "source": [
    "colors = 256\n",
    "eq_hist = MoCV.histogram.eq_hist(hist, colors, img.size)\n",
    "eq_hist"
   ]
  },
  {
   "cell_type": "code",
   "execution_count": 55,
   "metadata": {},
   "outputs": [
    {
     "data": {
      "image/png": "[encoded data removed]",
      "text/plain": [
       "<Figure size 432x288 with 1 Axes>"
      ]
     },
     "metadata": {
      "needs_background": "light"
     },
     "output_type": "display_data"
    }
   ],
   "source": [
    "plt.bar(np.arange(0, 256), height = eq_hist)\n",
    "plt.title(\"Linear Scaled Image Histogram\")\n",
    "plt.show()"
   ]
  },
  {
   "cell_type": "markdown",
   "metadata": {},
   "source": [
    "# Question 2"
   ]
  },
  {
   "cell_type": "code",
   "execution_count": 64,
   "metadata": {},
   "outputs": [
    {
     "name": "stdout",
     "output_type": "stream",
     "text": [
      "[[1 2 3 3 3]\n",
      " [1 1 1 1 2]\n",
      " [0 3 3 2 1]\n",
      " [0 3 3 2 1]]\n"
     ]
    }
   ],
   "source": [
    "img = np.array([[1,2,3,3,3], [1,1,1,1,2],[0,3,3,2,1], [0,3,3,2,1]])\n",
    "print(img)"
   ]
  },
  {
   "cell_type": "markdown",
   "metadata": {},
   "source": [
    "## Image Histogram"
   ]
  },
  {
   "cell_type": "code",
   "execution_count": 63,
   "metadata": {},
   "outputs": [
    {
     "name": "stdout",
     "output_type": "stream",
     "text": [
      "[2 7 4 7 0 0 0 0 0 0 0 0 0 0 0 0 0 0 0 0 0 0 0 0 0 0 0 0 0 0 0 0 0 0 0 0 0\n",
      " 0 0 0 0 0 0 0 0 0 0 0 0 0 0 0 0 0 0 0 0 0 0 0 0 0 0 0 0 0 0 0 0 0 0 0 0 0\n",
      " 0 0 0 0 0 0 0 0 0 0 0 0 0 0 0 0 0 0 0 0 0 0 0 0 0 0 0 0 0 0 0 0 0 0 0 0 0\n",
      " 0 0 0 0 0 0 0 0 0 0 0 0 0 0 0 0 0 0 0 0 0 0 0 0 0 0 0 0 0 0 0 0 0 0 0 0 0\n",
      " 0 0 0 0 0 0 0 0 0 0 0 0 0 0 0 0 0 0 0 0 0 0 0 0 0 0 0 0 0 0 0 0 0 0 0 0 0\n",
      " 0 0 0 0 0 0 0 0 0 0 0 0 0 0 0 0 0 0 0 0 0 0 0 0 0 0 0 0 0 0 0 0 0 0 0 0 0\n",
      " 0 0 0 0 0 0 0 0 0 0 0 0 0 0 0 0 0 0 0 0 0 0 0 0 0 0 0 0 0 0 0 0 0 0]\n"
     ]
    },
    {
     "data": {
      "image/png": "[encoded data removed]",
      "text/plain": [
       "<Figure size 432x288 with 1 Axes>"
      ]
     },
     "metadata": {
      "needs_background": "light"
     },
     "output_type": "display_data"
    }
   ],
   "source": [
    "hist = MoCV.histogram.histogram(img)\n",
    "print(hist)\n",
    "\n",
    "plt.bar(np.arange(0, 256), height = hist)\n",
    "plt.xlim((0, 255))\n",
    "plt.title(\"Image Histogram\")\n",
    "plt.show()"
   ]
  },
  {
   "cell_type": "markdown",
   "metadata": {},
   "source": [
    "## Linearly Scaled Image Histogram"
   ]
  },
  {
   "cell_type": "code",
   "execution_count": 65,
   "metadata": {},
   "outputs": [
    {
     "name": "stdout",
     "output_type": "stream",
     "text": [
      "[2 0 0 0 0 0 0 0 0 0 0 0 0 0 0 0 0 0 0 0 0 0 0 0 0 0 0 0 0 0 0 0 0 0 0 0 0\n",
      " 0 0 0 0 0 0 0 0 0 0 0 0 0 0 0 0 0 0 0 0 0 0 0 0 0 0 0 0 0 0 0 0 0 0 0 0 0\n",
      " 0 0 0 0 0 0 0 0 0 0 0 7 0 0 0 0 0 0 0 0 0 0 0 0 0 0 0 0 0 0 0 0 0 0 0 0 0\n",
      " 0 0 0 0 0 0 0 0 0 0 0 0 0 0 0 0 0 0 0 0 0 0 0 0 0 0 0 0 0 0 0 0 0 0 0 0 0\n",
      " 0 0 0 0 0 0 0 0 0 0 0 0 0 0 0 0 0 0 0 0 0 0 4 0 0 0 0 0 0 0 0 0 0 0 0 0 0\n",
      " 0 0 0 0 0 0 0 0 0 0 0 0 0 0 0 0 0 0 0 0 0 0 0 0 0 0 0 0 0 0 0 0 0 0 0 0 0\n",
      " 0 0 0 0 0 0 0 0 0 0 0 0 0 0 0 0 0 0 0 0 0 0 0 0 0 0 0 0 0 0 0 0 0 7]\n"
     ]
    },
    {
     "data": {
      "image/png": "[encoded data removed]",
      "text/plain": [
       "<Figure size 432x288 with 1 Axes>"
      ]
     },
     "metadata": {
      "needs_background": "light"
     },
     "output_type": "display_data"
    }
   ],
   "source": [
    "linear_scaled_hist = MoCV.histogram.linear_scale_hist(hist)\n",
    "print(linear_scaled_hist)\n",
    "\n",
    "plt.bar(np.arange(0, 256), height = linear_scaled_hist)\n",
    "plt.title(\"Linear Scaled Image Histogram\")\n",
    "plt.show()"
   ]
  },
  {
   "cell_type": "markdown",
   "metadata": {},
   "source": [
    "## Equalized Image Histogram"
   ]
  },
  {
   "cell_type": "code",
   "execution_count": 66,
   "metadata": {},
   "outputs": [
    {
     "name": "stdout",
     "output_type": "stream",
     "text": [
      "[ 12.  57.  83. 127. 127. 127. 127. 127. 127. 127. 127. 127. 127. 127.\n",
      " 127. 127. 127. 127. 127. 127. 127. 127. 127. 127. 127. 127. 127. 127.\n",
      " 127. 127. 127. 127. 127. 127. 127. 127. 127. 127. 127. 127. 127. 127.\n",
      " 127. 127. 127. 127. 127. 127. 127. 127. 127. 127. 127. 127. 127. 127.\n",
      " 127. 127. 127. 127. 127. 127. 127. 127. 127. 127. 127. 127. 127. 127.\n",
      " 127. 127. 127. 127. 127. 127. 127. 127. 127. 127. 127. 127. 127. 127.\n",
      " 127. 127. 127. 127. 127. 127. 127. 127. 127. 127. 127. 127. 127. 127.\n",
      " 127. 127. 127. 127. 127. 127. 127. 127. 127. 127. 127. 127. 127. 127.\n",
      " 127. 127. 127. 127. 127. 127. 127. 127. 127. 127. 127. 127. 127. 127.\n",
      " 127. 127. 127. 127. 127. 127. 127. 127. 127. 127. 127. 127. 127. 127.\n",
      " 127. 127. 127. 127. 127. 127. 127. 127. 127. 127. 127. 127. 127. 127.\n",
      " 127. 127. 127. 127. 127. 127. 127. 127. 127. 127. 127. 127. 127. 127.\n",
      " 127. 127. 127. 127. 127. 127. 127. 127. 127. 127. 127. 127. 127. 127.\n",
      " 127. 127. 127. 127. 127. 127. 127. 127. 127. 127. 127. 127. 127. 127.\n",
      " 127. 127. 127. 127. 127. 127. 127. 127. 127. 127. 127. 127. 127. 127.\n",
      " 127. 127. 127. 127. 127. 127. 127. 127. 127. 127. 127. 127. 127. 127.\n",
      " 127. 127. 127. 127. 127. 127. 127. 127. 127. 127. 127. 127. 127. 127.\n",
      " 127. 127. 127. 127. 127. 127. 127. 127. 127. 127. 127. 127. 127. 127.\n",
      " 127. 127. 127. 127.]\n"
     ]
    },
    {
     "data": {
      "image/png": "[encoded data removed]",
      "text/plain": [
       "<Figure size 432x288 with 1 Axes>"
      ]
     },
     "metadata": {
      "needs_background": "light"
     },
     "output_type": "display_data"
    }
   ],
   "source": [
    "colors = 256\n",
    "eq_hist = MoCV.histogram.eq_hist(hist, colors, img.size)\n",
    "print(eq_hist)\n",
    "\n",
    "plt.bar(np.arange(0, 256), height = eq_hist)\n",
    "plt.title(\"Equalized Image Histogram\")\n",
    "plt.show()"
   ]
  },
  {
   "cell_type": "code",
   "execution_count": null,
   "metadata": {},
   "outputs": [],
   "source": []
  }
 ],
 "metadata": {
  "kernelspec": {
   "display_name": "Python 3",
   "language": "python",
   "name": "python3"
  },
  "language_info": {
   "codemirror_mode": {
    "name": "ipython",
    "version": 3
   },
   "file_extension": ".py",
   "mimetype": "text/x-python",
   "name": "python",
   "nbconvert_exporter": "python",
   "pygments_lexer": "ipython3",
   "version": "3.7.5"
  }
 },
 "nbformat": 4,
 "nbformat_minor": 2
}
